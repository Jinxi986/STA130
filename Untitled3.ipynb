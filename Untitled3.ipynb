{
 "cells": [
  {
   "cell_type": "markdown",
   "id": "7060d00b",
   "metadata": {},
   "source": [
    "1."
   ]
  },
  {
   "cell_type": "markdown",
   "id": "27e4baec",
   "metadata": {},
   "source": [
    "The first five row of code is a set up of the Monty Hall Problem.\n",
    "“for i in range(reps)”：this code means that this loop will operate the simulation reps times.\n",
    "\"secret_winning_door = np.random.choice(all_door_options)\": this code refers to select a random door as the winning door.\n",
    "\n",
    "\"all_door_options_list = list(all_door_options)\n",
    "all_door_options_list.remove(secret_winning_door)\": these two rows of codes demonstrate to get rid of the winning door from the list of choices to escape showing it as a goat.\n",
    "\n",
    "\"try:\n",
    "    all_door_options_list.remove(my_door_choice)\n",
    "except:\n",
    "    pass\n",
    "goat_door_reveal = np.random.choice(all_door_options_list)\n",
    "all_door_options_list.remove(goat_door_reveal)\": The code try to delete the player's picked door from the list. If the opted door is the winning door, it skips this. Then, a goat door is randomly disclosed and eliminated from the list.\n",
    "\n",
    "\"if secret_winning_door != my_door_choice:\n",
    "    all_door_options_list.append(secret_winning_door)\":this codes purport that If the winning door wasn't the player's selection, it will be readded to the list of remanent doors.\n",
    "\n",
    "\"my_door_choice = all_door_options_list[0]\":The player changes their option to the only remaining door.\n",
    "\n",
    "\"if my_door_choice == secret_winning_door:\n",
    "    i_won += 1\"\n",
    ":this code signifies that If the player's final choice fits the winning door, the win counter is increased.\n",
    "\n",
    "\"i_won/reps\": this code illustrates the possibility of winning as dividing the number of wins by the total number of simulations to compute the switching doors.\n",
    "\n",
    "\n",
    "\n",
    "\n",
    "\n",
    "\n",
    "\n"
   ]
  },
  {
   "cell_type": "markdown",
   "id": "1232446a",
   "metadata": {},
   "source": [
    "2."
   ]
  },
  {
   "cell_type": "markdown",
   "id": "e8fcf7b4",
   "metadata": {},
   "source": [
    "As far as i am concerned, the one suggested by ChatGPT would be my favorite code due to its easier comprehension and less rows of code. The improved version prioritizes readability and explainability, making it more suitable for teaching and collaborative coding. Firstly, each section of the code is clearly defined with descriptive variable names and constants. Besides,each action of improved code is dsitinctly separated and escapes unnecessary try-except blocks which lead to fewer probability of failure, making it easy to explain each part of the logic without overwhelming the reader. In this case, it encourages best practices for readers by being straightforward and approachable, which is especially critical for those who may not have a strong background in programming or the Monty Hall problem."
   ]
  },
  {
   "cell_type": "markdown",
   "id": "1da8e4d3",
   "metadata": {},
   "source": [
    "3."
   ]
  },
  {
   "cell_type": "code",
   "execution_count": null,
   "id": "c258aeb6",
   "metadata": {},
   "outputs": [],
   "source": [
    "import numpy as np\n",
    "\n",
    "# Constants\n",
    "NUM_DOORS = 3\n",
    "NUM_REPS = 100000\n",
    "my_initial_choice = 1\n",
    "\n",
    "# Simulation\n",
    "wins = 0\n",
    "\n",
    "for _ in range(NUM_REPS):\n",
    "    # Randomly select the winning door\n",
    "    winning_door = np.random.choice(range(1, NUM_DOORS + 1))\n",
    "    \n",
    "    # The player initially picks a door\n",
    "    player_choice = my_initial_choice\n",
    "    \n",
    "    # Determine doors that can be revealed\n",
    "    remaining_doors = [door for door in range(1, NUM_DOORS + 1) if door != player_choice and door != winning_door]\n",
    "    \n",
    "    # Reveal a goat door (one of the remaining doors)\n",
    "    revealed_goat_door = np.random.choice(remaining_doors)\n",
    "    \n",
    "    # Determine the remaining door for switching\n",
    "    remaining_doors.remove(revealed_goat_door)\n",
    "    switch_choice = remaining_doors[0]  # The only door left to switch to\n",
    "\n",
    "    # Check if the switch wins\n",
    "    if switch_choice == winning_door:\n",
    "        wins += 1\n",
    "\n",
    "# Calculate and print the probability of winning by switching\n",
    "winning_probability = wins / NUM_REPS\n",
    "print(winning_probability)\n"
   ]
  },
  {
   "cell_type": "markdown",
   "id": "91c09b75",
   "metadata": {},
   "source": [
    "\"import numpy as np\": Imports the NumPy library, which supplys functions for numerical performences and random number creation, which allow us to conveniently execute random choices.\n",
    "\n",
    "\"# Constants\n",
    "NUM_DOORS = 3\n",
    "NUM_REPS = 100000\n",
    "my_initial_choice = 1\": Defines constants used through the total simulation. NUM_DOORS is the whole number (3) of doors in the game. NUM_PERS means the number of times the simulation will implement. my_initial_choice refers the door that the player opts at the first time.\n",
    "\n",
    "\"# Simulation\n",
    "wins = 0\": Initialises a counter variable wins to zero, updating the number of times the player wins by alternating doors.\n",
    "\n",
    "\"for _ in range(NUM_REPS):\" : Begins a loop that will repeat the simulation NUM_REPS times. The underscore (_) is a acquiescent way to state clearly that the loop variable is not used.\n",
    "\n",
    "\"    # Randomly select the winning door\n",
    "    winning_door = np.random.choice(range(1, NUM_DOORS + 1))\" :  This code indicates to randomly pick the winning door from the available doors using NumPy’s random selection function.\n",
    " \n",
    "\"    # The player initially picks a door\n",
    "    player_choice = my_initial_choice\" : Sets the player's option to their first choice before deciding the final pick. \n",
    "\n",
    "\"    # Determine doors that can be revealed\n",
    "    remaining_doors = [door for door in range(1, NUM_DOORS + 1) if door != player_choice and door != winning_door]\" : Generates a list of doors that can be unveiled (goat doors) by excluding the player's first selection and the winning door.\n",
    "\n",
    "\"    # Reveal a goat door (one of the remaining doors)\n",
    "    revealed_goat_door = np.random.choice(remaining_doors)\" : Randomly chooses one of the remaining goat doors to expose to the player.\n",
    "    \n",
    "\"    # Determine the remaining door for switching\n",
    "    remaining_doors.remove(revealed_goat_door)\" : Moves the revealed goat door from the remaining doors, leaving only the door that the player can switch to.\n",
    "    \n",
    "\"    switch_choice = remaining_doors[0]  # The only door left to switch to \" : Distributes the only remaining door (after revealing a goat) to the variable switch_choice, on behalf of the door the player will shift to.\n",
    "\n",
    "\"    # Check if the switch wins\n",
    "    if switch_choice == winning_door:\n",
    "        wins += 1 \" : Checks if the player's pick after changing suits the winning door. If it does, augments the wins counter by 1.\n",
    "        \n",
    "\"# Calculate and print the probability of winning by switching\n",
    "winning_probability = wins / NUM_REPS \" :  dividing the number of wins by the total number of simulations execute so that the code can calculates the possibility of winning by switching doors.\n",
    "\n",
    "\n",
    "\"print(winning_probability)\": Outputs the computed winning probability to the console, which let the player to see the results of the simulation.\n",
    "\n",
    "Summary:\n",
    "We simulate 100,000 games of Monty Hall.\n",
    "For each game:\n",
    "A car is hidden behind one door, and the player randomly picks a door.\n",
    "Monty reveals a goat behind one of the other doors.\n",
    "The player switches to the remaining unopened door.\n",
    "We check if the player wins by switching and count how many times this happens.\n",
    "Finally, the program prints the win rate, which represents the probability of winning by switching.\n",
    "This breakdown clarifies each step and its purpose in the context of simulating the Monty Hall problem.\n",
    "\n",
    "https://chatgpt.com/share/66ecc9f0-dbe4-8007-9d28-6eaf3550773d\n",
    "\n",
    "\n"
   ]
  },
  {
   "cell_type": "markdown",
   "id": "11d7e093",
   "metadata": {},
   "source": [
    "4."
   ]
  },
  {
   "cell_type": "markdown",
   "id": "a3130bf9",
   "metadata": {},
   "source": [
    "Summary：\n",
    "This structure forms the basis of a Markov chain model, where the chatbot learns how often words follow each other. Once it has these probabilities, it can generate new sentences by selecting the most probable next word based on previous ones.\n",
    "Tracks Word Occurrences: It stores how many times each word appears in a text.\n",
    "Tracks Word Pairs: It also tracks what word follows each word and how often this happens.\n",
    "Builds a Bigram Model: This means the model considers word pairs (current word and the next word) to predict the sequence of words.\n",
    "Text Generation: Once trained, the model can generate new text by starting with a word and probabilistically choosing the next word based on the frequencies it has learned.\n",
    "https://chatgpt.com/share/66ecca98-7ac4-8007-bee8-66f64ceda265"
   ]
  },
  {
   "cell_type": "markdown",
   "id": "c8e800b2",
   "metadata": {},
   "source": [
    "5."
   ]
  },
  {
   "cell_type": "markdown",
   "id": "7cd6ca3c",
   "metadata": {},
   "source": [
    "Summary:\n",
    "In our discussion, we explored a Markovian chatbot implementation with two key extensions:\n",
    "\n",
    "Bigrams: The chatbot uses bigrams (two-word sequences) instead of relying solely on the last word. This allows for richer context when predicting the next word, enhancing the overall text generation.\n",
    "Character-Specific Models: The chatbot maintains separate Markov chains for different characters by leveraging a dataset of characters. It counts word usage specific to each character, allowing for more tailored and authentic dialogue that reflects each character's unique style and personality.\n",
    "Together, these extensions improve the chatbot's ability to generate contextually appropriate and character-specific responses.\n",
    "\n",
    "https://chatgpt.com/share/66ece98d-6dbc-8007-9517-0cf29d419436\n",
    "\n",
    "\n",
    "We discussed the implementation of a Markovian chatbot with two extensions:\n",
    "\n",
    "Character-Specific Markov Chains:\n",
    "Tracks word occurrences and their following words to create a transition model.\n",
    "Uses a dictionary to count how often each word appears and how often one word follows another.\n",
    "Bigrams for Dependencies:\n",
    "Enhances the model by using pairs of words (bigrams) for dependencies.\n",
    "Maintains character-specific statistics, counting bigrams for each character and tracking the subsequent words that follow these bigrams.\n",
    "Overall, these extensions allow the chatbot to generate more nuanced and contextually appropriate responses, tailored to specific characters.\n",
    "\n",
    "\n",
    "https://chatgpt.com/share/66ecea1d-ec04-8007-b2d7-ae0f69306afd\n"
   ]
  },
  {
   "cell_type": "markdown",
   "id": "bd7473f3",
   "metadata": {},
   "source": [
    "6."
   ]
  },
  {
   "cell_type": "markdown",
   "id": "59c8d03a",
   "metadata": {},
   "source": [
    "1). ChatGPT can generate answer to the questions so fast. Every time after click \"enter\", ChatBot starts response in seconds. However, sometimes it takes Chatbot few minutes to complete the whole anwser and I need to scrolldown to help ChatBot to continue its reply consecutively.\n",
    "2). As far as I am concerned, not only isn't it frustrating for me to interact with ChatGPT, but also I can gain a lot when aiding me to solve the problems. However, it does appear sometimes that it cannot answer the queation directly and even make it more struggling which far away from the answer I want. In this case, I need to amend my questions through augmenting specific informations or expanding detailed conditions, making ChatBot more clearly understand my question. It can be a little bit annoyed that all different inforamtions I provide can effect the solution produced by ChatGPT, but it is this feature that allow me to practice my ability to think problem explicitily, improving me a lot.\n",
    "3).To be honest, using ChatBot is exactly useful to find solutions. It save a lot of time due to its quick response and no time restriction. Whenever I have trouble, I can ask it for free. Besides, it often creates detailed reply to help me comprehend effectively. However, since it is a robot instead of a person, it cannot understand some flexible question. In other words, it probable answer the question in a hard way to understand. when I cannot comprehend what it explain and want to have a more better understanding, it may cause problem. Because it cannot perform like a teacher to translate the illustration into better understood way. "
   ]
  },
  {
   "cell_type": "markdown",
   "id": "adfa9fa8",
   "metadata": {},
   "source": [
    "7."
   ]
  },
  {
   "cell_type": "markdown",
   "id": "008a496f",
   "metadata": {},
   "source": [
    "On reflection, it is better for me to attempt to extend the questions with specific information and detailed explanaiotn to make ChatBot reply me in the way as what I want instead of using unclear sentences. Since joining this course, I gratually comprehend how to use AI-driven assistance tools more effectively and usefully in terms of  learning coding, statistics, and data science. Every usage can provide me with different perceptions, making me better use the tool in next time. Each generation of non-ideal answer make me have new perception of better usage. "
   ]
  },
  {
   "cell_type": "markdown",
   "id": "79473302",
   "metadata": {},
   "source": [
    "8."
   ]
  },
  {
   "cell_type": "markdown",
   "id": "9b87a1d7",
   "metadata": {},
   "source": [
    "In this session, we discussed the skills needed for a career as a statistician or data scientist, emphasizing the importance of both technical and soft skills.\n",
    "\n",
    "Key Points:\n",
    "Technical Skills:\n",
    "Statistical Knowledge: Understanding statistics and modeling techniques.\n",
    "Programming Skills: Proficiency in Python, R, and SQL.\n",
    "Data Manipulation and Cleaning: Skills in data wrangling and preprocessing.\n",
    "Machine Learning: Knowledge of algorithms and libraries like scikit-learn.\n",
    "Data Visualization: Ability to create informative visualizations using tools like Tableau and libraries in Python/R.\n",
    "Big Data Technologies: Familiarity with tools like Hadoop and cloud platforms (optional).\n",
    "Domain Knowledge: Understanding specific industry contexts.\n",
    "Soft Skills:\n",
    "Analytical Thinking: Strong problem-solving abilities.\n",
    "Communication Skills: Ability to convey complex ideas to non-technical stakeholders.\n",
    "Collaboration: Working effectively in interdisciplinary teams.\n",
    "Curiosity and Continuous Learning: Desire to stay updated and explore new areas.\n",
    "Attention to Detail: Ensuring accuracy in data analysis and findings.\n",
    "Overall, a balanced skill set that includes both technical competencies and soft skills is crucial for success in the data science field. Continuous learning and adaptability are essential for keeping pace with industry developments.\n",
    "\n",
    "https://chatgpt.com/share/66ece04c-4150-8007-9d89-46d5137af6c1\n",
    "\n"
   ]
  },
  {
   "cell_type": "markdown",
   "id": "19b74b4e",
   "metadata": {},
   "source": [
    "Until now I would like to be a statistician or data scientist in biological or financial or programming fields. This discussion supply a lot of useful informations for me to determine my future career. In fact, it offers detailed inforamtions I need. Besides, it also collect the information I want to supply me with a distinct discussion so that I can use these informations directly.\n",
    "Concerning building the skills you need to pursue it, learning technical skill through class is pretty essential. These are the most clear and direct way to obtain knowledge. However, I still need to prctice more by internship experience since during internship can I keep track of the real work and know the ability I am lack of to better work.\n",
    "Regarding the limitation, this discussion is lack of detailed knowledge that the expert had really take the time to research the question and difficulty of different career had. Besides, it is also weak about the newest issues produced by unsteadty and unreliable job marketing, for which many graduated student cannot find satisfied work."
   ]
  },
  {
   "cell_type": "markdown",
   "id": "ef86fbeb",
   "metadata": {},
   "source": [
    "9."
   ]
  },
  {
   "cell_type": "markdown",
   "id": "6a35bcf8",
   "metadata": {},
   "source": [
    "Yes."
   ]
  }
 ],
 "metadata": {
  "kernelspec": {
   "display_name": "Python 3 (ipykernel)",
   "language": "python",
   "name": "python3"
  },
  "language_info": {
   "codemirror_mode": {
    "name": "ipython",
    "version": 3
   },
   "file_extension": ".py",
   "mimetype": "text/x-python",
   "name": "python",
   "nbconvert_exporter": "python",
   "pygments_lexer": "ipython3",
   "version": "3.11.6"
  }
 },
 "nbformat": 4,
 "nbformat_minor": 5
}
