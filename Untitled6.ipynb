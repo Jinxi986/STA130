{
 "cells": [
  {
   "cell_type": "markdown",
   "id": "91539561",
   "metadata": {},
   "source": [
    "Q1."
   ]
  },
  {
   "cell_type": "markdown",
   "id": "ca415e2f",
   "metadata": {},
   "source": [
    "The differences between the standard error of the mean and the standard deviation are that SD applies to the distribution of data points, while SEM applies to the distribution of the sample means.\n",
    "Besides, when utilizing these two methods for analysing dataset, the standard deviation does not depend on the size of the sample, but the standard error of the mean decreases as the sample size increases.\n",
    "\n",
    "The standard error of the mean measures the accuracy of the sample mean as an estimate of the population mean. It is primarily used to draw conclusions about the population mean based on sample data. It captures how much the sample mean is likely to vary from sample to sample. A smaller SEM purports that the sample mean has the likelihood to be a more accurate estimate of the population mean, while a larger SEM suggests greater uncertainty about how well the sample mean represents the population mean.\n",
    "\n",
    "\n",
    "The standard deviation is a way to measure the dispersion of each single data point in a dataset relative to the mean of the dataset. It can be use to calculate how much the individual data points in the sample differ from the mean. After computing the SD, the larger one due to far from mean to each data point states clearly that the dataset is more variable, while the smaller one indicates a more steady dataset in where the data point are more closer to the mean."
   ]
  },
  {
   "cell_type": "markdown",
   "id": "66eec51d",
   "metadata": {},
   "source": [
    "Q2."
   ]
  },
  {
   "cell_type": "markdown",
   "id": "ccaae990",
   "metadata": {},
   "source": [
    "To create a 95% confidence interval which covers 95% of the bootstrapped sample means by using SEM, we can follow these steps:\n",
    "\n",
    "Firstly, we need to resample the original data many times(the video says we usually use computer to calculate 1000s times). Then, for each resample, we calculate the sample mean to generate a distribution of bootstrapped sample means. Each bootstrap sapmle has the same size as the original data.\n",
    "\n",
    "Secondly, we compute the SEM by dividing SD of the boostrapped means by under the root of n.\n",
    "\n",
    "Lastly, the 95% confidence interval is given by addition or substraction with mean of bootstrapped means and SEM multiplied by 1.96 which is the z-score corresponding to the 95% confidence level for a normal distribution."
   ]
  },
  {
   "cell_type": "markdown",
   "id": "af23b311",
   "metadata": {},
   "source": [
    "Q3."
   ]
  },
  {
   "cell_type": "code",
   "execution_count": null,
   "id": "e80ca4b4",
   "metadata": {},
   "outputs": [],
   "source": [
    "# Assuming 'boot_means' is a vector of bootstrapped sample means\n",
    "lower_bound <- quantile(boot_means, 0.025)  # 2.5th percentile\n",
    "upper_bound <- quantile(boot_means, 0.975)  # 97.5th percentile\n",
    "ci <- c(lower_bound, upper_bound)           # 95% Confidence Interval\n"
   ]
  },
  {
   "cell_type": "markdown",
   "id": "2415af75",
   "metadata": {},
   "source": [
    "To create a 95% bootstrapped confidence interval using the bootstrapped means (without using their standard deviation to estimate the standard error of the mean), we can have access to these following steps:\n",
    "\n",
    "Firstly, resample the original dataset with replacement many times. Each bootstrap will have the same size of sample as the original dataset. For each resample, compute the sample mean, leading to a distribution of boostrapped means.\n",
    "\n",
    "Secondly, after deriving a distribution of bootstrapped means, sort them in ascending order.\n",
    "\n",
    "Lastly, identify the 2.5th percentile and the 97.5th percentile of the sorted bootstrapped means. These percentiles correspond respectively to the lower and upper bounds of the confidence interval. The 95% confidence interval is the range from the value at the 2.5th percentile to the value at the 97.5th percentile, which covers the middle 95% of the bootstrapped means."
   ]
  },
  {
   "cell_type": "markdown",
   "id": "c95fd9b3",
   "metadata": {},
   "source": [
    "Q4."
   ]
  },
  {
   "cell_type": "code",
   "execution_count": null,
   "id": "3184652d",
   "metadata": {},
   "outputs": [],
   "source": [
    "import numpy as np\n",
    "\n",
    "# Sample data (replace with your actual sample)\n",
    "sample = np.array([1.2, 2.4, 2.7, 3.1, 4.3, 5.6, 6.2])\n",
    "\n",
    "# Function to calculate the bootstrap confidence interval for the population mean\n",
    "def bootstrap_ci_mean(sample, n_bootstrap=1000, ci=95):\n",
    "    np.random.seed(42)  # Set seed for reproducibility\n",
    "    bootstrap_means = []  # To store the mean of each bootstrap sample\n",
    "    \n",
    "    # Generate bootstrap samples\n",
    "    for _ in range(n_bootstrap):\n",
    "        # Draw a random sample (with replacement) of the same size as the original sample\n",
    "        bootstrap_sample = np.random.choice(sample, size=len(sample), replace=True)\n",
    "        \n",
    "        # Calculate the mean of the bootstrap sample\n",
    "        bootstrap_means.append(np.mean(bootstrap_sample))  \n",
    "    \n",
    "    # Calculate the percentiles for the desired confidence interval\n",
    "    lower_bound = np.percentile(bootstrap_means, (100 - ci) / 2)\n",
    "    upper_bound = np.percentile(bootstrap_means, 100 - (100 - ci) / 2)\n",
    "    \n",
    "    return lower_bound, upper_bound\n",
    "\n",
    "# Calculate the 95% confidence interval for the population mean\n",
    "mean_ci = bootstrap_ci_mean(sample)\n",
    "print(f\"95% Bootstrap CI for the population mean: {mean_ci}\")\n",
    "\n",
    "\n",
    "# --- Modifications for Other Population Parameters ---\n",
    "\n",
    "# To modify this code for calculating a 95% bootstrap confidence interval \n",
    "# for a different population parameter (e.g., median), you need to change \n",
    "# the statistic being computed within the bootstrap sampling loop.\n",
    "\n",
    "# Example for population median:\n",
    "\n",
    "def bootstrap_ci_median(sample, n_bootstrap=1000, ci=95):\n",
    "    np.random.seed(42)  # Set seed for reproducibility\n",
    "    bootstrap_medians = []  # To store the median of each bootstrap sample\n",
    "    \n",
    "    # Generate bootstrap samples\n",
    "    for _ in range(n_bootstrap):\n",
    "        # Draw a random sample (with replacement) of the same size as the original sample\n",
    "        bootstrap_sample = np.random.choice(sample, size=len(sample), replace=True)\n",
    "        \n",
    "        # Change here: Calculate the median instead of the mean\n",
    "        bootstrap_medians.append(np.median(bootstrap_sample))  \n",
    "    \n",
    "    # Calculate the percentiles for the desired confidence interval\n",
    "    lower_bound = np.percentile(bootstrap_medians, (100 - ci) / 2)\n",
    "    upper_bound = np.percentile(bootstrap_medians, 100 - (100 - ci) / 2)\n",
    "    \n",
    "    return lower_bound, upper_bound\n",
    "\n",
    "# Calculate the 95% confidence interval for the population median\n",
    "median_ci = bootstrap_ci_median(sample)\n",
    "print(f\"95% Bootstrap CI for the population median: {median_ci}\")\n",
    "\n",
    "\n",
    "# Example for population variance:\n",
    "\n",
    "def bootstrap_ci_variance(sample, n_bootstrap=1000, ci=95):\n",
    "    np.random.seed(42)  # Set seed for reproducibility\n",
    "    bootstrap_variances = []  # To store the variance of each bootstrap sample\n",
    "    \n",
    "    # Generate bootstrap samples\n",
    "    for _ in range(n_bootstrap):\n",
    "        # Draw a random sample (with replacement) of the same size as the original sample\n",
    "        bootstrap_sample = np.random.choice(sample, size=len(sample), replace=True)\n",
    "        \n",
    "        # Change here: Calculate the variance instead of the mean\n",
    "        bootstrap_variances.append(np.var(bootstrap_sample))  \n",
    "    \n",
    "    # Calculate the percentiles for the desired confidence interval\n",
    "    lower_bound = np.percentile(bootstrap_variances, (100 - ci) / 2)\n",
    "    upper_bound = np.percentile(bootstrap_variances, 100 - (100 - ci) / 2)\n",
    "    \n",
    "    return lower_bound, upper_bound\n",
    "\n",
    "# Calculate the 95% confidence interval for the population variance\n",
    "variance_ci = bootstrap_ci_variance(sample)\n",
    "print(f\"95% Bootstrap CI for the population variance: {variance_ci}\")\n",
    "\n",
    "\n",
    "# Example for population standard deviation:\n",
    "\n",
    "def bootstrap_ci_std(sample, n_bootstrap=1000, ci=95):\n",
    "    np.random.seed(42)  # Set seed for reproducibility\n",
    "    bootstrap_stds = []  # To store the standard deviation of each bootstrap sample\n",
    "    \n",
    "    # Generate bootstrap samples\n",
    "    for _ in range(n_bootstrap):\n",
    "        # Draw a random sample (with replacement) of the same size as the original sample\n",
    "        bootstrap_sample = np.random.choice(sample, size=len(sample), replace=True)\n",
    "        \n",
    "        # Change here: Calculate the standard deviation instead of the mean\n",
    "        bootstrap_stds.append(np.std(bootstrap_sample))  \n",
    "    \n",
    "    # Calculate the percentiles for the desired confidence interval\n",
    "    lower_bound = np.percentile(bootstrap_stds, (100 - ci) / 2)\n",
    "    upper_bound = np.percentile(bootstrap_stds, 100 - (100 - ci) / 2)\n",
    "    \n",
    "    return lower_bound, upper_bound\n",
    "\n",
    "# Calculate the 95% confidence interval for the population standard deviation\n",
    "std_ci = bootstrap_ci_std(sample)\n",
    "print(f\"95% Bootstrap CI for the population standard deviation: {std_ci}\")\n"
   ]
  },
  {
   "cell_type": "markdown",
   "id": "1e3edc9b",
   "metadata": {},
   "source": [
    "Comment:\n",
    "Change for the Median:\n",
    "Replace np.mean(bootstrap_sample) with np.median(bootstrap_sample) to calculate the median instead of the mean in each bootstrap sample.\n",
    "\n",
    "Change for the Variance:\n",
    "Replace np.mean(bootstrap_sample) with np.var(bootstrap_sample) to calculate the variance for each bootstrap sample.\n",
    "\n",
    "Change for the Standard Deviation:\n",
    "Replace np.mean(bootstrap_sample) with np.std(bootstrap_sample) to calculate the standard deviation for each bootstrap sample.\n",
    "\n",
    "Bootstrap Resampling:\n",
    "The key mechanism stays the same: repeatedly sample from the original dataset (with replacement) and compute the desired statistic for each bootstrap sample.\n",
    "\n",
    "Confidence Interval Calculation:\n",
    "The np.percentile function is used to compute the lower and upper bounds for the 95% confidence interval, based on the distribution of bootstrap statistics.\n",
    "\n",
    "https://chatgpt.com/share/66feea75-22ec-8007-8402-879dde809375"
   ]
  },
  {
   "cell_type": "markdown",
   "id": "d6b174ba",
   "metadata": {},
   "source": [
    "Q5."
   ]
  },
  {
   "cell_type": "markdown",
   "id": "89628ee4",
   "metadata": {},
   "source": [
    "Because the population parameter and the sample statistic serve different roles in statistical inference.\n",
    "\n",
    "The population parameter is what we are eventually interested in. However, as it is impractical and impossible to survey the entire population, we typically cannot measure it directly. It indicates a fixed and unknown value which describes a characteristic of the whole population.\n",
    "\n",
    "For sample statistic, this refers to a value counted from a sample that estimates the population parameter. It is not fixed like population parameter, on the contrary, it varies from sample to sample because different sample can generate slightlt different estimates.\n",
    "\n",
    "The interval is established by using the sample statistic and the variability in the sample, but it is used to make inference about the unknown population parameter. The sample statistic is at the center of the confidence interval computation and the best estimate of the population parameter. The populaiton parameter is the target of deduction. \n",
    "\n",
    "To sum up, according to the data, the confidence interval shows how uncertain we are about that estimate. And it provides a range off values within which we epxpect the population parameter to lie based on the sample statistic. Without distinguishing between these two, we may misunderstand what confidence interval denote."
   ]
  },
  {
   "cell_type": "markdown",
   "id": "80ff455e",
   "metadata": {},
   "source": [
    "Q6."
   ]
  },
  {
   "cell_type": "markdown",
   "id": "a149778b",
   "metadata": {},
   "source": [
    "1)."
   ]
  },
  {
   "cell_type": "markdown",
   "id": "d050dab0",
   "metadata": {},
   "source": [
    "Bootstrapping is a resampling technique used in statistics to estimate the distribution of a sample statistic by repeatedly sampling with replacement from the original data. \n",
    "\n",
    "The process of bootstrapping includes four steps.\n",
    "\n",
    "Firstly, randomly choose data points from the sample with replacement which implies the same data point can be picked more than once. \n",
    "\n",
    "Secondly, redid this experiment several times to create a new resampled dataset that is the same size as the original sample. \n",
    "\n",
    "Thirdly, compute whatever statistic we want to analyze from this new resampled dataset that we just constructed before.\n",
    "\n",
    "Lastly, repeat this resampling process a bunch of times and record the statistic each time."
   ]
  },
  {
   "cell_type": "markdown",
   "id": "192be7db",
   "metadata": {},
   "source": [
    "2)."
   ]
  },
  {
   "cell_type": "markdown",
   "id": "f7efc551",
   "metadata": {},
   "source": [
    "The main purpose of bootstrapping is to derive an idea of the variability or uncertainty of estimates when there is only one sample. Basically, it helps figure out how much sample statistic might change if different samples perform without actually needing to collect more data.\n",
    "In other words, it gives confidence intervals and helps make inference about the population, even though there is only one set of data."
   ]
  },
  {
   "cell_type": "markdown",
   "id": "cd1da6d9",
   "metadata": {},
   "source": [
    "3)."
   ]
  },
  {
   "cell_type": "markdown",
   "id": "210de2e9",
   "metadata": {},
   "source": [
    "Firstly, take the sample and randomly resample many tiems from it with replacement to create a distribution of sample averages. \n",
    "Then, for each bootstrap sample, count the mean and keep track of all these means.\n",
    "After redid above steps a bunch of times, a distribution of means has been constructed.\n",
    "If the hypothesized population average is within the range of typical values in bootstrap distribution,the guess might be plausible. However, if the hypothesized populaiton is way outside this range, it is a sign that the guess might not be accurate."
   ]
  },
  {
   "cell_type": "markdown",
   "id": "bdd1a29a",
   "metadata": {},
   "source": [
    "Q7."
   ]
  },
  {
   "cell_type": "markdown",
   "id": "72031990",
   "metadata": {},
   "source": [
    "1).If a 95% confidence interval for the mean includes zero, it suggests that zero is a plausible value for the population mean based on the data. Thus, we cannot confidently say that the population mean is different from zero, resulting in failing to reject the null hypothesis. Even if the observed sample mean is not zero, if the confidence interval ranges from a interval including zero, it purports that the observed effect might not be statistically significant. The range of plausible values includes zero, signifying that the observed sample mean might be due to random sampling variability.\n",
    "\n",
    "2). To reject the null hypothesis, we have three choices below:\n",
    "Firstly, if the confidence interval does not include zero, it suggests that zero is not a plausible value for the population mean, providing evidence that the population mean is likely different from zero. \n",
    "\n",
    "Secondly, if we perform a hypothesis test and find a p-value less than the significance level, it indicates strong evidence against the null hypothesis. \n",
    "\n",
    "Lastly, a larger sample size typically provides more reliable estimates and narrower confidence intervals. If the sample mean is significantly away from zero, even with small effects, a large enough sample can lead to a confidence interval that excludes zero, allowing rejection of the null hypothesis."
   ]
  },
  {
   "cell_type": "markdown",
   "id": "84750dd9",
   "metadata": {},
   "source": [
    "Q8."
   ]
  },
  {
   "cell_type": "markdown",
   "id": "7206f392",
   "metadata": {},
   "source": [
    "Problem Introduction:\n",
    "The aim of this analysis is to determine whether the new vaccine developed by AliTech significantly improves the health of patients. We are tasked with testing the null hypothesis of \"no effect,\" meaning there is no significant improvement in health after taking the vaccine.\n",
    "\n",
    "Null Hypothesis of \"No Effect\":\n",
    "The null hypothesis assumes that the vaccine doesn't change health scores.\n",
    "\n",
    "Data Visualization:\n",
    "We'll plot the health scores before and after the vaccine to get a first look at any possible improvements.\n",
    "\n",
    "Quantitative Analysis:\n",
    "We’ll use a method called bootstrapping to analyze the health score changes. This involves:\n",
    "1.Health score difference: Subtract the initial score from the final score for each patient.\n",
    "2.Bootstrapping: Randomly sample and calculate the average health score difference multiple times to build a distribution.\n",
    "3.Confidence Interval: Use the distribution to check if the difference is significant (if the confidence interval doesn't include zero, the vaccine has an effect).\n",
    "\n",
    "Supporting Visualizations:\n",
    "Histogram: Shows the distribution of health score improvements based on bootstrapping.\n",
    "Initial vs. Final Health: Compare the health scores before and after the vaccine for each patient.\n",
    "\n",
    "Findings and Discussion:\n",
    "Conclusion regarding Null Hypothesis of \"No Effect\":\n",
    "Based on our analysis, we will either reject the null hypothesis,which means if the confidence interval excludes zero and say the vaccine works, or we’ll fail to reject it if there is no significant effect.\n",
    "\n",
    "Further Considerations:\n",
    "Small Sample: With only 10 patients, more testing with larger groups is needed to confirm the results.\n",
    "No Control Group: A control group (people who didn't take the vaccine) would strengthen the analysis.\n",
    "Long-term Impact: We only looked at short-term health improvements; long-term effects could be different."
   ]
  },
  {
   "cell_type": "code",
   "execution_count": null,
   "id": "b83bcd2d",
   "metadata": {},
   "outputs": [],
   "source": [
    "import numpy as np\n",
    "import pandas as pd\n",
    "import matplotlib.pyplot as plt\n",
    "\n",
    "# Read data\n",
    "data = pd.read_csv('alitech_vaccine_data.csv')\n",
    "\n",
    "# Set random seed for reproducibility\n",
    "np.random.seed(42)\n",
    "\n",
    "# Calculate health score difference\n",
    "data['HealthScoreDifference'] = data['FinalHealthScore'] - data['InitialHealthScore']\n",
    "\n",
    "# Bootstrapping\n",
    "def bootstrap(data, n_iterations=1000):\n",
    "    means = []\n",
    "    for _ in range(n_iterations):\n",
    "        sample = np.random.choice(data, size=len(data), replace=True)\n",
    "        means.append(np.mean(sample))\n",
    "    return np.array(means)\n",
    "\n",
    "# Apply bootstrapping\n",
    "bootstrap_means = bootstrap(data['HealthScoreDifference'].values)\n",
    "\n",
    "# Confidence interval (95%)\n",
    "confidence_interval = np.percentile(bootstrap_means, [2.5, 97.5])\n",
    "\n",
    "# Visualize the bootstrapped means\n",
    "plt.hist(bootstrap_means, bins=30, edgecolor='k')\n",
    "plt.title('Bootstrap Distribution of Health Score Differences')\n",
    "plt.axvline(confidence_interval[0], color='red', linestyle='--')\n",
    "plt.axvline(confidence_interval[1], color='red', linestyle='--')\n",
    "plt.xlabel('Mean Health Score Difference')\n",
    "plt.ylabel('Frequency')\n",
    "plt.show()\n",
    "\n",
    "# Results\n",
    "mean_diff = np.mean(bootstrap_means)\n",
    "print(f\"Mean health score difference: {mean_diff:.2f}\")\n",
    "print(f\"95% confidence interval: {confidence_interval}\")\n"
   ]
  },
  {
   "cell_type": "markdown",
   "id": "fa22ee6b",
   "metadata": {},
   "source": [
    "Q9."
   ]
  },
  {
   "cell_type": "markdown",
   "id": "c8f00c8f",
   "metadata": {},
   "source": [
    "Yes"
   ]
  }
 ],
 "metadata": {
  "kernelspec": {
   "display_name": "Python 3 (ipykernel)",
   "language": "python",
   "name": "python3"
  },
  "language_info": {
   "codemirror_mode": {
    "name": "ipython",
    "version": 3
   },
   "file_extension": ".py",
   "mimetype": "text/x-python",
   "name": "python",
   "nbconvert_exporter": "python",
   "pygments_lexer": "ipython3",
   "version": "3.11.6"
  }
 },
 "nbformat": 4,
 "nbformat_minor": 5
}
