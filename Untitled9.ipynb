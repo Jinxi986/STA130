{
 "cells": [
  {
   "cell_type": "markdown",
   "id": "94e2738e",
   "metadata": {},
   "source": [
    "Analysis 1"
   ]
  },
  {
   "cell_type": "markdown",
   "id": "49fced75",
   "metadata": {},
   "source": [
    "Variables:"
   ]
  },
  {
   "cell_type": "markdown",
   "id": "aee62ee1",
   "metadata": {},
   "source": [
    "·COVID_prevention_distancing: primary variable from the 2021 cross-sectional survey, measuring wether people kept physically distance themselves by 2 meters from others.This variable represents data related to social distancing measures as part of COVID-19 prevention efforts. It captures whether specific distancing protocols were followed, or it could indicate the level of adherence or strictness of distancing measures in various settings or time periods.\n",
    "\n"
   ]
  },
  {
   "cell_type": "markdown",
   "id": "34e394cc",
   "metadata": {},
   "source": [
    "· CONNECTION_social_time_friends_p7d_grouped: primary variable from the 2021 cross-sectional survey, asking about how many hours in total did people spend socializing with others from friends in the past week\". This variable appears to measure the amount of time participants spent socializing with friends in the past seven days. It likely captures social interactions, providing insights into social behavior patterns and potential exposure levels."
   ]
  },
  {
   "cell_type": "markdown",
   "id": "af58cf54",
   "metadata": {},
   "source": [
    "Visualization:"
   ]
  },
  {
   "cell_type": "markdown",
   "id": "38f66131",
   "metadata": {},
   "source": [
    "To illustrate the influence on time spending with friends in past 7 days because of COVID_prevention_distancing this COVID prevention policy, we will use a histogram. This kind of graph allow us to visualize the data distribution, central tendency, variability,frequncy counts and comparing distrbutions of the level of loneliness and connection effort.\n",
    "The y-axis of this graph is CONNECTION_social_time_friends_p7d_grouped, representing the categorical variable of degree of loneliness. \n",
    "The x-axis is COVID_prevention_distancing, purporting the categorical variable of level of effort people spend.\n",
    "\n",
    "This visualization will supply an intuitive assessment of how connection time paying with friends varies with respect to the COVID policy leaving 2 meters from others, allowing us to reckon potential relationship between two variables directly. "
   ]
  },
  {
   "cell_type": "markdown",
   "id": "801ef48d",
   "metadata": {},
   "source": [
    "Analysis:"
   ]
  },
  {
   "cell_type": "markdown",
   "id": "6899048a",
   "metadata": {},
   "source": [
    "Define Variables\n",
    "\n",
    "Independent Variable: COVID_prevention_distancing (whether people kept a physical distance of 2 meters or not)\n",
    "This is a categorical variable with 4 levels.\n",
    "Dependent Variable: CONNECTION_social_time_friends_p7d_groupe (total hours spent socializing with friends in the past week).\n",
    "This is a continuous variable representing the number of hours spent with friends.\n",
    "\n",
    "Regression Model Choice:\n",
    "\n",
    "Since the dependent variable is continuous, we can use Ordinary Least Squares (OLS) regression to determine if physical distancing behavior significantly predicts social time with friends.\n",
    "\n",
    "Model Specification\n",
    "\n",
    "The regression equation would be: \n",
    "\n",
    "CONNECTION_social_time_friends_p7d_groupe=β0+β1×COVID_prevention_distancing+ϵ\n",
    "Here:\n",
    "𝛽0 is the intercept, representing the average social time for individuals who did not adhere to distancing.\n",
    "𝛽1 represents the effect of physical distancing on social time.\n",
    "𝜖 is the error term, capturing unobserved factors affecting social time with friends."
   ]
  },
  {
   "cell_type": "markdown",
   "id": "537d1692",
   "metadata": {},
   "source": [
    "Hypotheses:"
   ]
  },
  {
   "cell_type": "markdown",
   "id": "d22d3bef",
   "metadata": {},
   "source": [
    "Null Hypothesis (H0):There is no effect of COVID_prevention_distancing on social time with friends(i.e: ß1 = 0)\n",
    "\n",
    "Alternative Hypothesis（Ha）There is an effect of COVID_prevention_distancing on social time with friends(i.e: ß1 ≠ 0)"
   ]
  },
  {
   "cell_type": "markdown",
   "id": "c9406537",
   "metadata": {},
   "source": [
    "Interpreting results:"
   ]
  },
  {
   "cell_type": "markdown",
   "id": "6afb72ae",
   "metadata": {},
   "source": [
    "·If ß1 is significantly negative, this suggests that people who practiced physical distancing tended to spend less time socializing with friends, potentially indicating that distancing policies impacted social interactions.\n",
    "\n",
    "·If ß1 is not significant, this would indicate that physical distancing had little or no effect on socializing frequency, which might imply either limited impact of distancing or alternative socializing methods."
   ]
  },
  {
   "cell_type": "markdown",
   "id": "e517b5cf",
   "metadata": {},
   "source": [
    "Assumption:"
   ]
  },
  {
   "cell_type": "markdown",
   "id": "bd50cbc7",
   "metadata": {},
   "source": [
    "·Linear relationship between the independent and dependent variable.\n",
    "·Homoscedasticity: Constant variance of residuals.\n",
    "·Independence of observations.\n",
    "·Normality of residuals (important for small samples).\n"
   ]
  },
  {
   "cell_type": "markdown",
   "id": "d1ef9c46",
   "metadata": {},
   "source": [
    "Possible Results:"
   ]
  },
  {
   "cell_type": "markdown",
   "id": "50273adf",
   "metadata": {},
   "source": [
    "·Significant Negative Impact of Physical Distancing on Socializing with Friends: Suppose the regression output shows 𝛽1(the coefficient for COVID_prevention_distancing) is significantly negative, with a p-value below 0.05 (indicating statistical significance).\n",
    "This result would suggest that people who adhered to physical distancing (maintaining a 2-meter distance) spent significantly less time socializing with friends than those who did not follow distancing guidelines.\n",
    "·No Significant Impact of Physical Distancing on Socializing with Friends:In this scenario, suppose 𝛽1 is close to zero and not statistically significant (p-value above 0.05).\n",
    "This would indicate that physical distancing did not significantly affect the amount of time people spent socializing with friends, suggesting that people may have adapted their social habits to maintain connections despite distancing."
   ]
  },
  {
   "cell_type": "markdown",
   "id": "ae490b0e",
   "metadata": {},
   "source": [
    "Relevance to course object:"
   ]
  },
  {
   "cell_type": "markdown",
   "id": "4d838f09",
   "metadata": {},
   "source": [
    "Performing a linear regression on COVID_prevention_distancing and social_time_friends can illuminate the trade-offs between public health behaviors and social engagement, especially during COVID-19. Social distancing limits face-to-face interactions, potentially impacting personal connections that are essential for well-being. By examining whether distancing significantly predicts time spent with friends, we gain insight into how health-preserving actions may affect socialization patterns and mental health. This analysis also reveals whether people compensate for reduced physical interaction in other ways, highlighting the importance of social connection and community engagement in maintaining resilience and well-being during health-related restrictions."
   ]
  },
  {
   "cell_type": "markdown",
   "id": "cbb47797",
   "metadata": {},
   "source": [
    "Analysis 2:"
   ]
  },
  {
   "cell_type": "markdown",
   "id": "2b6bcc98",
   "metadata": {},
   "source": [
    "Variables:"
   ]
  },
  {
   "cell_type": "markdown",
   "id": "84e5bd90",
   "metadata": {},
   "source": [
    "LONELY_ucla_loneliness_scale_isolated: primary variable from the 2021 cross-sectional survey, indicating how often do people feel isolated from others. This variable measures how often individuals feel isolated from others, based on a prompt that likely asks about the frequency of feelings of social isolation. It is derived from the UCLA Loneliness Scale, a standardized tool for assessing subjective loneliness and social isolation. \n",
    "\n",
    "CONNECTION_effort_connect: primary variable from the 2021 cross-sectional survey, signifying how much effort do people put into deliberately connecting with others. This variable assesses the extent to which individuals actively make an effort to connect with others. It indicates how much time, energy, or intent people invest in fostering social interactions and relationships."
   ]
  },
  {
   "cell_type": "markdown",
   "id": "3a23cc92",
   "metadata": {},
   "source": [
    "Visualization:"
   ]
  },
  {
   "cell_type": "markdown",
   "id": "fea21e47",
   "metadata": {},
   "source": [
    "To demonstrate the association between the level of effort that peope put intentionally connecting with others and degree of loneliness of feel isolated from others,  we use the scatter plots and box plots. The scatter plots is uesed to observe the relationship between connection efforts and feelings of loneliness.\n",
    "The box plots is used to compare loneliness scores across different levels of connection effort."
   ]
  },
  {
   "cell_type": "markdown",
   "id": "ab72bd78",
   "metadata": {},
   "source": [
    "Analysis:"
   ]
  },
  {
   "cell_type": "markdown",
   "id": "88a08279",
   "metadata": {},
   "source": [
    "Formulating Hypotheses:"
   ]
  },
  {
   "cell_type": "markdown",
   "id": "cedefbc5",
   "metadata": {},
   "source": [
    "Null Hypothesis (𝐻0): There is no significant relationship between the effort people spend connecting with others and their feelings of isolation. (i.e., the mean score of loneliness does not differ based on connection efforts.)\n",
    "\n",
    "Alternative Hypothesis (𝐻𝑎): There is a significant relationship between the effort people spend connecting with others and their feelings of isolation. (i.e., the mean score of loneliness differs based on connection efforts.)\n"
   ]
  },
  {
   "cell_type": "markdown",
   "id": "3d4dd005",
   "metadata": {},
   "source": [
    "Assumptions:"
   ]
  },
  {
   "cell_type": "markdown",
   "id": "d24c754f",
   "metadata": {},
   "source": [
    "·Both variables should be normally distributed.\n",
    "·Homoscedasticity (equal variances) should be assumed."
   ]
  },
  {
   "cell_type": "markdown",
   "id": "08a9253b",
   "metadata": {},
   "source": [
    "Performing the Hypothesis Test:"
   ]
  },
  {
   "cell_type": "markdown",
   "id": "4fc65901",
   "metadata": {},
   "source": [
    "·Determine the significance level (𝛼): Common choices are 0.05 or 0.01.\n",
    "\n",
    "·Calculate the p-value for the correlation coefficient."
   ]
  },
  {
   "cell_type": "markdown",
   "id": "cfa99e43",
   "metadata": {},
   "source": [
    "Decision Rule:"
   ]
  },
  {
   "cell_type": "markdown",
   "id": "1b156592",
   "metadata": {},
   "source": [
    "·If 𝑝≤𝛼 , reject the null hypothesis.\n",
    "·If 𝑝>𝛼 ,fail to reject the null hypothesis."
   ]
  },
  {
   "cell_type": "markdown",
   "id": "7a4d0f94",
   "metadata": {},
   "source": [
    "Possible Results:"
   ]
  },
  {
   "cell_type": "markdown",
   "id": "a89868e2",
   "metadata": {},
   "source": [
    "·If the null hypothesis is rejected, it indicates that there is a significant relationship between the effort spent connecting with others and feelings of loneliness.\n",
    "\n",
    "·If the null hypothesis is not rejected, it suggests that connection efforts do not significantly impact feelings of isolation."
   ]
  },
  {
   "cell_type": "markdown",
   "id": "38a388ca",
   "metadata": {},
   "source": [
    "Relevance to the course objective:"
   ]
  },
  {
   "cell_type": "markdown",
   "id": "c4e182d2",
   "metadata": {},
   "source": [
    "Analyzing LONELY_ucla_loneliness_scale_isolated and CONNECTION_effort_connect through a hypothesis test can illuminate the importance of social connection for personal health and well-being.If a significant association is found, this would support the idea that fostering social bonds—whether with family, friends, or community—can mitigate loneliness and boost well-being. This insight reinforces the role of community and connection in mental health, highlighting the value of encouraging proactive social efforts for improved health outcomes."
   ]
  },
  {
   "cell_type": "markdown",
   "id": "80728ec1",
   "metadata": {},
   "source": [
    "Analysis3:"
   ]
  },
  {
   "cell_type": "markdown",
   "id": "18f9b05f",
   "metadata": {},
   "source": [
    "Variables:"
   ]
  },
  {
   "cell_type": "markdown",
   "id": "e96376bc",
   "metadata": {},
   "source": [
    "LONELY_ucla_loneliness_scale_score: original variable from the 2021 cross-sectional survey. This variable represents a quantitative measure of an individual's overall level of loneliness, derived from the UCLA Loneliness Scale. This scale typically consists of a series of questions designed to assess the subjective feelings of loneliness and social isolation. \n",
    "\n",
    "WELLNESS_malach_pines_burnout_measure_depressed:original variable from the 2021 cross-sectional survey, meaning when you think about your life overall, how often do you feel the following? - Depressed\". This variable assesses individuals' self-reported frequency of feeling depressed when reflecting on their overall life. This variable is part of a broader burnout measurement tool developed by Malach-Pines, which evaluates emotional exhaustion and feelings of burnout in various contexts, often related to work or life stressors."
   ]
  },
  {
   "cell_type": "markdown",
   "id": "5feb6ccd",
   "metadata": {},
   "source": [
    "Visualization:"
   ]
  },
  {
   "cell_type": "markdown",
   "id": "f8e06fb6",
   "metadata": {},
   "source": [
    "To show the relation between the level of lonliness thought by participants themselves and the extend of depression, we will use the violin plot. In the plot, if you notice that higher depression scores correspond to wider sections of loneliness scores, it indicates a positive correlation where individuals who feel more depressed also tend to feel lonelier. Conversely, if the violins are narrow at high depression scores, it may suggest that not all individuals who are depressed feel lonely, indicating a more complex relationship.\n",
    "\n",
    "The y-axis is LONELY_ucla_loneliness_scale_score.\n",
    "The x-axis is WELLNESS_malach_pines_burnout_measure_depressed.\n",
    "\n"
   ]
  },
  {
   "cell_type": "markdown",
   "id": "1e0c815d",
   "metadata": {},
   "source": [
    "Analysis:"
   ]
  },
  {
   "cell_type": "markdown",
   "id": "c0d5a504",
   "metadata": {},
   "source": [
    "To analyze the relationship between loneliness and depression using bootstrapping, we can examine the correlation between two variables: LONELY_ucla_loneliness_scale_score (a measure of loneliness) and WELLNESS_malach_pines_burnout_measure_depressed (a measure of depression). Bootstrapping will allow us to assess the confidence interval for this correlation without assuming any specific distribution for these variables, providing a robust estimate of their relationship.\n",
    "\n",
    "Observed Correlation: This value indicates the strength and direction of the relationship between loneliness and depression.\n",
    "\n",
    "Distribution Plot: The violin plot visualizes how the bootstrapped correlation coefficients are distributed, indicating the stability of the correlation estimate.\n"
   ]
  },
  {
   "cell_type": "markdown",
   "id": "ec257673",
   "metadata": {},
   "source": [
    "Bootstrapping Procedure:"
   ]
  },
  {
   "cell_type": "markdown",
   "id": "25d73d2d",
   "metadata": {},
   "source": [
    "Calculate the Observed Correlation: First, calculate the Pearson correlation coefficient between the two variables.\n",
    "\n",
    "Resampling: Randomly sample pairs of data points (loneliness and depression scores) with replacement, many times (e.g., 10,000 iterations).\n",
    "\n",
    "Calculate Correlation for Each Sample: For each resample, calculate the correlation coefficient.\n",
    "\n",
    "Create a Distribution of Correlation Coefficients: This forms the empirical distribution of the correlation.\n",
    "\n",
    "Confidence Intervals: Calculate the confidence intervals from the bootstrapped correlation coefficients.\n",
    "\n",
    "Significance Testing: Check if the null hypothesis is rejected based on the confidence interval."
   ]
  },
  {
   "cell_type": "markdown",
   "id": "2800fbae",
   "metadata": {},
   "source": [
    "Possible Results:"
   ]
  },
  {
   "cell_type": "markdown",
   "id": "5bdbed23",
   "metadata": {},
   "source": [
    "The 95% confidence interval for the correlation coefficient represents the range within which the true correlation is likely to lie. If this interval is far from zero, it suggests a statistically significant relationship between loneliness and depression.\n",
    "\n",
    "Significant Positive Correlation: If the confidence interval is entirely above zero, this indicates a positive relationship, meaning that higher loneliness scores are associated with higher levels of depression.\n",
    "No Significant Correlation: If the interval includes zero, it suggests that there may not be a meaningful relationship between loneliness and depression.\n"
   ]
  },
  {
   "cell_type": "markdown",
   "id": "48a49542",
   "metadata": {},
   "source": [
    "Relevance to the course objective:"
   ]
  },
  {
   "cell_type": "markdown",
   "id": "f91bf167",
   "metadata": {},
   "source": [
    "Bootstrapping the variables LONELY_ucla_loneliness_scale_score and WELLNESS_malach_pines_burnout_measure_depressed allows for a robust analysis of how loneliness and burnout—key indicators of social disconnection and mental strain—relate to personal well-being. By resampling the data, bootstrapping generates reliable estimates of variability and significance, revealing whether high loneliness and burnout levels are associated with lower social connection and engagement. This method can show whether stronger social bonds correlate consistently with reduced loneliness and burnout, underscoring the value of social relationships in enhancing well-being."
   ]
  },
  {
   "cell_type": "code",
   "execution_count": 3,
   "id": "2fa4c378",
   "metadata": {},
   "outputs": [
    {
     "name": "stdout",
     "output_type": "stream",
     "text": [
      "Observed Correlation: -0.01869834708146321\n",
      "Bootstrap 95% CI: (-0.21920074133149173, 0.1812044291420183)\n"
     ]
    },
    {
     "data": {
      "image/png": "[encoded data removed]",
      "text/plain": [
       "<Figure size 640x480 with 1 Axes>"
      ]
     },
     "metadata": {},
     "output_type": "display_data"
    }
   ],
   "source": [
    "import numpy as np\n",
    "import pandas as pd\n",
    "import matplotlib.pyplot as plt\n",
    "from scipy.stats import pearsonr\n",
    "\n",
    "# Sample DataFrame\n",
    "data = {\n",
    "    'loneliness': np.random.rand(100),  # Replace with LONELY_ucla_loneliness_scale_score\n",
    "    'depression': np.random.rand(100)    # Replace with WELLNESS_malach_pines_burnout_measure_depressed\n",
    "}\n",
    "df = pd.DataFrame(data)\n",
    "\n",
    "# Step 1: Calculate the observed correlation\n",
    "observed_corr, _ = pearsonr(df['loneliness'], df['depression'])\n",
    "print(f'Observed Correlation: {observed_corr}')\n",
    "\n",
    "# Step 2-5: Bootstrapping\n",
    "n_iterations = 10000\n",
    "bootstrapped_corrs = []\n",
    "\n",
    "for _ in range(n_iterations):\n",
    "    sample = df.sample(frac=1, replace=True)  # Resampling with replacement\n",
    "    corr, _ = pearsonr(sample['loneliness'], sample['depression'])\n",
    "    bootstrapped_corrs.append(corr)\n",
    "\n",
    "# Step 6: Calculate confidence intervals\n",
    "lower_ci = np.percentile(bootstrapped_corrs, 2.5)\n",
    "upper_ci = np.percentile(bootstrapped_corrs, 97.5)\n",
    "\n",
    "# Results\n",
    "print(f'Bootstrap 95% CI: ({lower_ci}, {upper_ci})')\n",
    "\n",
    "# Plotting the distribution of bootstrapped correlations\n",
    "plt.hist(bootstrapped_corrs, bins=30, alpha=0.7)\n",
    "plt.axvline(observed_corr, color='red', linestyle='dashed', linewidth=2, label='Observed Correlation')\n",
    "plt.axvline(lower_ci, color='blue', linestyle='dashed', linewidth=2, label='Lower CI (2.5%)')\n",
    "plt.axvline(upper_ci, color='green', linestyle='dashed', linewidth=2, label='Upper CI (97.5%)')\n",
    "plt.title('Bootstrapped Correlation Distribution')\n",
    "plt.xlabel('Correlation Coefficient')\n",
    "plt.ylabel('Frequency')\n",
    "plt.legend()\n",
    "plt.show()\n"
   ]
  },
  {
   "cell_type": "code",
   "execution_count": null,
   "id": "4a319c33",
   "metadata": {},
   "outputs": [],
   "source": []
  }
 ],
 "metadata": {
  "kernelspec": {
   "display_name": "Python 3 (ipykernel)",
   "language": "python",
   "name": "python3"
  },
  "language_info": {
   "codemirror_mode": {
    "name": "ipython",
    "version": 3
   },
   "file_extension": ".py",
   "mimetype": "text/x-python",
   "name": "python",
   "nbconvert_exporter": "python",
   "pygments_lexer": "ipython3",
   "version": "3.11.6"
  }
 },
 "nbformat": 4,
 "nbformat_minor": 5
}
